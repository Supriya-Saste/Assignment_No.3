{
 "cells": [
  {
   "cell_type": "markdown",
   "id": "f9979bba",
   "metadata": {},
   "source": [
    "### 1. Why are functions advantageous to have in your programs?"
   ]
  },
  {
   "cell_type": "markdown",
   "id": "a3e61dc4",
   "metadata": {},
   "source": [
    "Ans:\n",
    "    With the help of functions there is no need to rewrite some logic or piece of a program again and again. \n",
    "    We can call python functions whenever required, that too multiple number of times."
   ]
  },
  {
   "cell_type": "markdown",
   "id": "57d4c763",
   "metadata": {},
   "source": [
    "### 2. When does the code in a function run: when it's specified or when it's called?"
   ]
  },
  {
   "cell_type": "markdown",
   "id": "4d7279ee",
   "metadata": {},
   "source": [
    "Ans:\n",
    "    The code in function executes when it's called."
   ]
  },
  {
   "cell_type": "markdown",
   "id": "f9eaace8",
   "metadata": {},
   "source": [
    "### 3. What statement creates a function? "
   ]
  },
  {
   "cell_type": "markdown",
   "id": "d593e1c5",
   "metadata": {},
   "source": [
    "Ans:\n",
    "    the def statement is used to create a function"
   ]
  },
  {
   "cell_type": "markdown",
   "id": "5ea13bb3",
   "metadata": {},
   "source": [
    "### 4. What is the difference between a function and a function call?"
   ]
  },
  {
   "cell_type": "code",
   "execution_count": null,
   "id": "cf483408",
   "metadata": {},
   "outputs": [],
   "source": [
    "Ans:\n",
    "    A function is just a piece of code which need to be written again and again,\n",
    "    whereas function call is used to invoke that piece of code, whenever required"
   ]
  },
  {
   "cell_type": "markdown",
   "id": "8b7d0878",
   "metadata": {},
   "source": [
    "### 5. How many global scopes are there in a Python program? How many local scopes?"
   ]
  },
  {
   "cell_type": "code",
   "execution_count": null,
   "id": "719c6d8a",
   "metadata": {},
   "outputs": [],
   "source": [
    "Ans: \n",
    "    There is one global & one local scope available in python"
   ]
  },
  {
   "cell_type": "markdown",
   "id": "a5999a35",
   "metadata": {},
   "source": [
    "### 6. What happens to variables in a local scope when the function call returns?"
   ]
  },
  {
   "cell_type": "markdown",
   "id": "e1a6d6a1",
   "metadata": {},
   "source": [
    "Ans:\n",
    "    When function call returns, all local variables in a function call frame gets deleted."
   ]
  },
  {
   "cell_type": "markdown",
   "id": "f5e7e274",
   "metadata": {},
   "source": [
    "### 7. What is the concept of a return value? Is it possible to have a return value in an expression? "
   ]
  },
  {
   "cell_type": "markdown",
   "id": "1d7b9d81",
   "metadata": {},
   "source": [
    "Ans:\n",
    "    A return value is a value that function returns to calling script. \n",
    "    Yes, it is posssible to have a return value in an expression."
   ]
  },
  {
   "cell_type": "markdown",
   "id": "414253d0",
   "metadata": {},
   "source": [
    "### 8. If a function does not have a return statement, what is the return value of a call to that function? "
   ]
  },
  {
   "cell_type": "markdown",
   "id": "6e276a16",
   "metadata": {},
   "source": [
    "Ans:\n",
    "    If a function does not have return value, python returns a default value, which ic None."
   ]
  },
  {
   "cell_type": "markdown",
   "id": "ed4155d0",
   "metadata": {},
   "source": [
    "### 9. How do you make a function variable refer to the global variable?"
   ]
  },
  {
   "cell_type": "markdown",
   "id": "b030059a",
   "metadata": {},
   "source": [
    "Ans:\n",
    "    Use of \"global\" keyword helps to make a function variable referr to the global variable."
   ]
  },
  {
   "cell_type": "markdown",
   "id": "076df4e0",
   "metadata": {},
   "source": [
    "### 10. What is the data type of None? "
   ]
  },
  {
   "cell_type": "markdown",
   "id": "ed13bd52",
   "metadata": {},
   "source": [
    "Ans:\n",
    "    None is the data type of it's own i.e. NoneType"
   ]
  },
  {
   "cell_type": "code",
   "execution_count": 4,
   "id": "058a7718",
   "metadata": {},
   "outputs": [
    {
     "data": {
      "text/plain": [
       "NoneType"
      ]
     },
     "execution_count": 4,
     "metadata": {},
     "output_type": "execute_result"
    }
   ],
   "source": [
    "type(None)"
   ]
  },
  {
   "cell_type": "markdown",
   "id": "27f9336f",
   "metadata": {},
   "source": [
    "### 11. What does the sentence import areallyourpetsnamederic do?"
   ]
  },
  {
   "cell_type": "markdown",
   "id": "d218375e",
   "metadata": {},
   "source": [
    "Ans:\n",
    "    The import statement here imports the module named areallyourpetsnamederic."
   ]
  },
  {
   "cell_type": "markdown",
   "id": "25db0239",
   "metadata": {},
   "source": [
    "### 12. If you had a bacon() feature in a spam module, what would you call it after importing spam? "
   ]
  },
  {
   "cell_type": "markdown",
   "id": "0af0bbc8",
   "metadata": {},
   "source": [
    "Ans:\n",
    "    It will be called with spam.bacon()"
   ]
  },
  {
   "cell_type": "markdown",
   "id": "20df6023",
   "metadata": {},
   "source": [
    "### 13. What can you do to save a programme from crashing if it encounters an error? "
   ]
  },
  {
   "cell_type": "markdown",
   "id": "21dbdff6",
   "metadata": {},
   "source": [
    "Ans:\n",
    "    In this case the code can be placed inside try---except block."
   ]
  },
  {
   "cell_type": "markdown",
   "id": "2b0794e1",
   "metadata": {},
   "source": [
    "### 14. What is the purpose of the try clause? What is the purpose of the except clause?"
   ]
  },
  {
   "cell_type": "markdown",
   "id": "ecd0d5e7",
   "metadata": {},
   "source": [
    "Ans:\n",
    "    The try block lets you test a block of code for errors. The except block lets you handle the error."
   ]
  }
 ],
 "metadata": {
  "kernelspec": {
   "display_name": "Python 3",
   "language": "python",
   "name": "python3"
  },
  "language_info": {
   "codemirror_mode": {
    "name": "ipython",
    "version": 3
   },
   "file_extension": ".py",
   "mimetype": "text/x-python",
   "name": "python",
   "nbconvert_exporter": "python",
   "pygments_lexer": "ipython3",
   "version": "3.8.8"
  }
 },
 "nbformat": 4,
 "nbformat_minor": 5
}
